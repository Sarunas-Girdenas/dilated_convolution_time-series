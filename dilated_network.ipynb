{
 "cells": [
  {
   "cell_type": "code",
   "execution_count": 2,
   "metadata": {},
   "outputs": [],
   "source": [
    "from ast import literal_eval\n",
    "from tcn_data_loader import TcnDataLoader\n",
    "from tcn_model import DilatedNet\n",
    "import configparser\n",
    "from torch import nn\n",
    "import torch\n",
    "from torch.utils import data\n",
    "import numpy as np\n",
    "from sklearn.metrics import accuracy_score, roc_auc_score\n",
    "import matplotlib.pyplot as plt\n",
    "import seaborn as sns\n",
    "sns.set_style('white')"
   ]
  },
  {
   "cell_type": "markdown",
   "metadata": {},
   "source": [
    "Finished trial#0 with value: 0.7712418300653595 with parameters: {'dilation': 6, 'depth': 6, 'seq_length': 193, 'out_channels': 139, 'batch_size': 291, 'num_epochs': 39, 'optimizer': 'RMSprop', 'learning_rate': 0.00020140417362299518}. Best is trial#0 with value: 0.7712418300653595."
   ]
  },
  {
   "cell_type": "code",
   "execution_count": 3,
   "metadata": {},
   "outputs": [],
   "source": [
    "config_location = '../ml_models_for_airflow/dbs3_config.ini'"
   ]
  },
  {
   "cell_type": "code",
   "execution_count": 4,
   "metadata": {},
   "outputs": [
    {
     "data": {
      "text/plain": [
       "['../ml_models_for_airflow/dbs3_config.ini']"
      ]
     },
     "execution_count": 4,
     "metadata": {},
     "output_type": "execute_result"
    }
   ],
   "source": [
    "config = configparser.ConfigParser()\n",
    "config.read(config_location)"
   ]
  },
  {
   "cell_type": "code",
   "execution_count": 5,
   "metadata": {},
   "outputs": [],
   "source": [
    "pairs_mapping = literal_eval(config['MODEL']['pairs_mapping'])\n",
    "pairs = tuple(pairs_mapping.values())\n",
    "pairs = ('NEOBTC', 'XLMBTC',\n",
    "         'ETHBTC', 'LINKBTC', 'LTCBTC', 'XTZBTC', 'ZECBTC',\n",
    "         'BNBBTC')"
   ]
  },
  {
   "cell_type": "code",
   "execution_count": 6,
   "metadata": {},
   "outputs": [],
   "source": [
    "features = ['askPrice', 'bidPrice', 'bidQty/askQty', 'volume', 'priceChangePercent']"
   ]
  },
  {
   "cell_type": "code",
   "execution_count": 7,
   "metadata": {},
   "outputs": [],
   "source": [
    "SEQ_LENGTH = 193\n",
    "BATCH_SIZE = 291\n",
    "NUM_EPOCHS = 39\n",
    "OPTIMIZER = 'RMSprop'\n",
    "LEARNING_RATE = 0.00020140417362299518\n",
    "GRAD_CLIPPING_VAL = 1\n",
    "INIT_LR = 10.0\n",
    "NUM_FEATURES = 5\n",
    "OUT_CHANNELS = 139\n",
    "DILATION = 6\n",
    "DEPTH = 6\n",
    "KERNEL_SIZE = 2"
   ]
  },
  {
   "cell_type": "code",
   "execution_count": 8,
   "metadata": {},
   "outputs": [],
   "source": [
    "full_data_set = TcnDataLoader(\n",
    "    config_location=config_location,\n",
    "    pairs=pairs,\n",
    "    seq_lenght=SEQ_LENGTH,\n",
    "    features=features,\n",
    "    local_path_book='book_data_tcn.csv',\n",
    "    local_path_volume='volume_data_tcn.csv' \n",
    ")"
   ]
  },
  {
   "cell_type": "code",
   "execution_count": 9,
   "metadata": {},
   "outputs": [
    {
     "name": "stdout",
     "output_type": "stream",
     "text": [
      "193\n"
     ]
    }
   ],
   "source": [
    "# actual sequence length\n",
    "SEQ_LENGTH = full_data_set.actual_sequence_length\n",
    "print(SEQ_LENGTH)"
   ]
  },
  {
   "cell_type": "code",
   "execution_count": 10,
   "metadata": {},
   "outputs": [],
   "source": [
    "train_set_size = int(len(full_data_set)*0.85)\n",
    "test_set_size = len(full_data_set) - train_set_size"
   ]
  },
  {
   "cell_type": "code",
   "execution_count": 11,
   "metadata": {},
   "outputs": [],
   "source": [
    "trainset, valset = data.random_split(full_data_set,\n",
    "                                     [train_set_size, test_set_size]\n",
    "                                    )"
   ]
  },
  {
   "cell_type": "code",
   "execution_count": 12,
   "metadata": {},
   "outputs": [],
   "source": [
    "train_generator = data.DataLoader(trainset, batch_size=BATCH_SIZE, shuffle=True, num_workers=4)\n",
    "test_generator = data.DataLoader(valset, batch_size=len(valset), shuffle=True, num_workers=4)"
   ]
  },
  {
   "cell_type": "code",
   "execution_count": 13,
   "metadata": {},
   "outputs": [],
   "source": [
    "model = DilatedNet(\n",
    "    seq_length=SEQ_LENGTH,\n",
    "    num_features=NUM_FEATURES,\n",
    "    out_channels=OUT_CHANNELS,\n",
    "    dilation=DILATION,\n",
    "    depth=DEPTH,\n",
    "    kernel_size=KERNEL_SIZE\n",
    ")"
   ]
  },
  {
   "cell_type": "code",
   "execution_count": 14,
   "metadata": {},
   "outputs": [
    {
     "data": {
      "text/plain": [
       "DilatedNet(\n",
       "  (relu): ReLU()\n",
       "  (dilated_conv1): CausalConv1d(5, 139, kernel_size=(2,), stride=(1,), padding=(6,), dilation=(6,))\n",
       "  (convolution_blocks): Sequential(\n",
       "    (0): CausalConv1d(139, 139, kernel_size=(2,), stride=(1,), padding=(6,), dilation=(6,))\n",
       "    (1): ReLU()\n",
       "    (2): CausalConv1d(139, 139, kernel_size=(2,), stride=(1,), padding=(6,), dilation=(6,))\n",
       "    (3): ReLU()\n",
       "    (4): CausalConv1d(139, 139, kernel_size=(2,), stride=(1,), padding=(6,), dilation=(6,))\n",
       "    (5): ReLU()\n",
       "    (6): CausalConv1d(139, 139, kernel_size=(2,), stride=(1,), padding=(6,), dilation=(6,))\n",
       "    (7): ReLU()\n",
       "    (8): CausalConv1d(139, 139, kernel_size=(2,), stride=(1,), padding=(6,), dilation=(6,))\n",
       "    (9): ReLU()\n",
       "    (10): CausalConv1d(139, 139, kernel_size=(2,), stride=(1,), padding=(6,), dilation=(6,))\n",
       "    (11): ReLU()\n",
       "  )\n",
       "  (conv_final): CausalConv1d(139, 139, kernel_size=(1,), stride=(1,))\n",
       "  (feed_forward): Linear(in_features=193, out_features=1, bias=True)\n",
       ")"
      ]
     },
     "execution_count": 14,
     "metadata": {},
     "output_type": "execute_result"
    }
   ],
   "source": [
    "model.apply(model.init_weights)"
   ]
  },
  {
   "cell_type": "code",
   "execution_count": 15,
   "metadata": {},
   "outputs": [],
   "source": [
    "if OPTIMIZER == 'ADAM': optimizer = torch.optim.Adam(model.parameters(), lr=LEARNING_RATE)\n",
    "if OPTIMIZER == 'SGD': optimizer = torch.optim.SGD(model.parameters(), lr=LEARNING_RATE)\n",
    "if OPTIMIZER == 'RMSprop': optimizer = torch.optim.RMSprop(model.parameters(), lr=LEARNING_RATE)\n",
    "\n",
    "learning_rate_scheduler = torch.optim.lr_scheduler.LambdaLR(optimizer, lambda i: min(i / (INIT_LR / BATCH_SIZE), 1.0))"
   ]
  },
  {
   "cell_type": "code",
   "execution_count": 16,
   "metadata": {},
   "outputs": [],
   "source": [
    "criterion = torch.nn.BCELoss()\n",
    "track_epoch_loss = []\n",
    "train_auc = []\n",
    "test_auc = []"
   ]
  },
  {
   "cell_type": "code",
   "execution_count": 17,
   "metadata": {},
   "outputs": [
    {
     "name": "stdout",
     "output_type": "stream",
     "text": [
      "train auc: 0.5784295033845246  epoch: 0\n",
      "test auc: 0.5882352941176471  epoch: 0\n",
      "train auc: 0.47593268821861534  epoch: 1\n",
      "test auc: 0.6208639705882353  epoch: 1\n",
      "train auc: 0.5670007049778043  epoch: 2\n",
      "test auc: 0.5928308823529411  epoch: 2\n",
      "train auc: 0.49009540365472565  epoch: 3\n",
      "test auc: 0.4273897058823529  epoch: 3\n",
      "train auc: 0.4819575264077305  epoch: 4\n",
      "test auc: 0.4361213235294118  epoch: 4\n",
      "train auc: 0.4773046473513861  epoch: 5\n",
      "test auc: 0.5873161764705882  epoch: 5\n",
      "train auc: 0.5415773328887119  epoch: 6\n",
      "test auc: 0.5707720588235294  epoch: 6\n",
      "train auc: 0.5322647930088156  epoch: 7\n",
      "test auc: 0.5698529411764706  epoch: 7\n",
      "train auc: 0.49487982730640645  epoch: 8\n",
      "test auc: 0.5643382352941176  epoch: 8\n",
      "train auc: 0.5124959256850043  epoch: 9\n",
      "test auc: 0.5772058823529412  epoch: 9\n",
      "train auc: 0.5000901407184283  epoch: 10\n",
      "test auc: 0.5514705882352942  epoch: 10\n",
      "train auc: 0.5670454723713472  epoch: 11\n",
      "test auc: 0.5569852941176471  epoch: 11\n",
      "train auc: 0.5534614830965195  epoch: 12\n",
      "test auc: 0.5643382352941178  epoch: 12\n",
      "train auc: 0.5824467184695709  epoch: 13\n",
      "test auc: 0.5698529411764706  epoch: 13\n",
      "train auc: 0.5785854578228113  epoch: 14\n",
      "test auc: 0.5827205882352942  epoch: 14\n",
      "train auc: 0.591773914598861  epoch: 15\n",
      "test auc: 0.6011029411764706  epoch: 15\n",
      "train auc: 0.6076862544235426  epoch: 16\n",
      "test auc: 0.6176470588235294  epoch: 16\n",
      "train auc: 0.6287663107761026  epoch: 17\n",
      "test auc: 0.6259191176470588  epoch: 17\n",
      "train auc: 0.6459672448820128  epoch: 18\n",
      "test auc: 0.6268382352941176  epoch: 18\n",
      "train auc: 0.6679767220636785  epoch: 19\n",
      "test auc: 0.625  epoch: 19\n",
      "train auc: 0.6733943900884689  epoch: 20\n",
      "test auc: 0.6470588235294118  epoch: 20\n",
      "train auc: 0.6894801216336238  epoch: 21\n",
      "test auc: 0.6424632352941176  epoch: 21\n",
      "train auc: 0.7118440793572296  epoch: 22\n",
      "test auc: 0.6525735294117647  epoch: 22\n",
      "train auc: 0.7097265041412721  epoch: 23\n",
      "test auc: 0.6424632352941176  epoch: 23\n",
      "train auc: 0.6951288274324251  epoch: 24\n",
      "test auc: 0.6553308823529411  epoch: 24\n",
      "train auc: 0.7296930706105123  epoch: 25\n",
      "test auc: 0.6580882352941176  epoch: 25\n",
      "train auc: 0.7222581710319026  epoch: 26\n",
      "test auc: 0.6608455882352942  epoch: 26\n",
      "train auc: 0.7258938569828828  epoch: 27\n",
      "test auc: 0.5955882352941176  epoch: 27\n",
      "train auc: 0.7419180809501484  epoch: 28\n",
      "test auc: 0.6176470588235294  epoch: 28\n",
      "train auc: 0.7206129238943585  epoch: 29\n",
      "test auc: 0.6020220588235294  epoch: 29\n",
      "train auc: 0.7146397886727052  epoch: 30\n",
      "test auc: 0.640625  epoch: 30\n",
      "train auc: 0.7403755880513406  epoch: 31\n",
      "test auc: 0.6544117647058824  epoch: 31\n",
      "train auc: 0.729124670918564  epoch: 32\n",
      "test auc: 0.6553308823529411  epoch: 32\n",
      "train auc: 0.7408302418253339  epoch: 33\n",
      "test auc: 0.6617647058823529  epoch: 33\n",
      "train auc: 0.7349379307908501  epoch: 34\n",
      "test auc: 0.6571691176470589  epoch: 34\n",
      "train auc: 0.7489615352502553  epoch: 35\n",
      "test auc: 0.6498161764705883  epoch: 35\n",
      "train auc: 0.7576772737492906  epoch: 36\n",
      "test auc: 0.6534926470588236  epoch: 36\n",
      "train auc: 0.7564069231671388  epoch: 37\n",
      "test auc: 0.6488970588235294  epoch: 37\n",
      "train auc: 0.7445997021610926  epoch: 38\n",
      "test auc: 0.6452205882352942  epoch: 38\n"
     ]
    }
   ],
   "source": [
    "for ep in range(NUM_EPOCHS):\n",
    "    model.train()\n",
    "    epoch_loss = 0\n",
    "    temp_train_auc = 0\n",
    "    \n",
    "    for train_x, train_y in train_generator:\n",
    "        \n",
    "        predictions = model(train_x)\n",
    "        loss = criterion(predictions, train_y.view(-1, 1))\n",
    "        epoch_loss += loss.item()\n",
    "        temp_train_auc += roc_auc_score(\n",
    "            train_y.numpy(), predictions.detach().numpy())\n",
    "        \n",
    "        optimizer.zero_grad()\n",
    "        loss.backward()\n",
    "        \n",
    "        # clip up\n",
    "        torch.nn.utils.clip_grad_norm_(model.parameters(), GRAD_CLIPPING_VAL)\n",
    "\n",
    "        optimizer.step()\n",
    "        learning_rate_scheduler.step()\n",
    "    \n",
    "    train_auc.append(temp_train_auc/len(train_generator))\n",
    "    if ep % 1 == 0: print('train auc:', train_auc[-1], ' epoch:', ep)\n",
    "    \n",
    "    with torch.no_grad():\n",
    "        model.eval()\n",
    "        temp_test_auc = 0\n",
    "        for test_x, test_y in test_generator:\n",
    "            predictions = model(test_x)\n",
    "            temp_test_auc += roc_auc_score(\n",
    "                test_y.numpy(), predictions.numpy())\n",
    "\n",
    "    test_auc.append(temp_test_auc/len(test_generator))\n",
    "    if ep % 1 == 0: print('test auc:', test_auc[-1], ' epoch:', ep)"
   ]
  },
  {
   "cell_type": "code",
   "execution_count": 18,
   "metadata": {},
   "outputs": [
    {
     "data": {
      "image/png": "[encoded data removed]",
      "text/plain": [
       "<Figure size 864x576 with 1 Axes>"
      ]
     },
     "metadata": {},
     "output_type": "display_data"
    }
   ],
   "source": [
    "plt.figure(figsize=(12, 8))\n",
    "plt.title('Test & Training AUC')\n",
    "plt.plot(test_auc, label='test AUC', color='r', alpha=0.7)\n",
    "plt.plot(train_auc, label='train AUC', color='b', alpha=0.7)\n",
    "plt.ylabel('AUC Score')\n",
    "plt.xlabel('Epoch')\n",
    "plt.grid()\n",
    "plt.legend()\n",
    "plt.show()"
   ]
  }
 ],
 "metadata": {
  "kernelspec": {
   "display_name": "pp37",
   "language": "python",
   "name": "pp37"
  },
  "language_info": {
   "codemirror_mode": {
    "name": "ipython",
    "version": 3
   },
   "file_extension": ".py",
   "mimetype": "text/x-python",
   "name": "python",
   "nbconvert_exporter": "python",
   "pygments_lexer": "ipython3",
   "version": "3.7.3"
  }
 },
 "nbformat": 4,
 "nbformat_minor": 4
}
