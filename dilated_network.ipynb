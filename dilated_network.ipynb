{
 "cells": [
  {
   "cell_type": "code",
   "execution_count": 1,
   "metadata": {},
   "outputs": [],
   "source": [
    "from ast import literal_eval\n",
    "from tcn_data_loader import TcnDataLoader\n",
    "from tcn_model import DilatedNet\n",
    "import configparser\n",
    "from torch import nn\n",
    "import torch\n",
    "from torch.utils import data\n",
    "import numpy as np\n",
    "from sklearn.metrics import accuracy_score, roc_auc_score\n",
    "import matplotlib.pyplot as plt\n",
    "import seaborn as sns\n",
    "sns.set_style('white')"
   ]
  },
  {
   "cell_type": "markdown",
   "metadata": {},
   "source": [
    "Finished trial#0 with value: 0.7712418300653595 with parameters: {'dilation': 6, 'depth': 6, 'seq_length': 193, 'out_channels': 139, 'batch_size': 291, 'num_epochs': 39, 'optimizer': 'RMSprop', 'learning_rate': 0.00020140417362299518}. Best is trial#0 with value: 0.7712418300653595."
   ]
  },
  {
   "cell_type": "code",
   "execution_count": 2,
   "metadata": {},
   "outputs": [],
   "source": [
    "config_location = '../ml_models_for_airflow/dbs3_config.ini'"
   ]
  },
  {
   "cell_type": "code",
   "execution_count": 3,
   "metadata": {},
   "outputs": [
    {
     "data": {
      "text/plain": [
       "['../ml_models_for_airflow/dbs3_config.ini']"
      ]
     },
     "execution_count": 3,
     "metadata": {},
     "output_type": "execute_result"
    }
   ],
   "source": [
    "config = configparser.ConfigParser()\n",
    "config.read(config_location)"
   ]
  },
  {
   "cell_type": "code",
   "execution_count": 4,
   "metadata": {},
   "outputs": [],
   "source": [
    "pairs_mapping = literal_eval(config['MODEL']['pairs_mapping'])\n",
    "pairs = tuple(pairs_mapping.values())"
   ]
  },
  {
   "cell_type": "code",
   "execution_count": 5,
   "metadata": {},
   "outputs": [],
   "source": [
    "features = ['askPrice', 'bidPrice', 'bidQty/askQty', 'volume', 'priceChangePercent']"
   ]
  },
  {
   "cell_type": "code",
   "execution_count": 6,
   "metadata": {},
   "outputs": [],
   "source": [
    "SEQ_LENGTH = 193\n",
    "BATCH_SIZE = 291\n",
    "NUM_EPOCHS = 39\n",
    "OPTIMIZER = 'RMSprop'\n",
    "LEARNING_RATE = 0.00020140417362299518\n",
    "GRAD_CLIPPING_VAL = 1\n",
    "INIT_LR = 10.0\n",
    "NUM_FEATURES = 5\n",
    "OUT_CHANNELS = 139\n",
    "DILATION = 6\n",
    "DEPTH = 6\n",
    "KERNEL_SIZE = 2"
   ]
  },
  {
   "cell_type": "code",
   "execution_count": 7,
   "metadata": {},
   "outputs": [],
   "source": [
    "full_data_set = TcnDataLoader(\n",
    "    config_location=config_location,\n",
    "    pairs=pairs,\n",
    "    seq_lenght=SEQ_LENGTH,\n",
    "    features=features,\n",
    "    local_path_book='book_data_tcn.csv',\n",
    "    local_path_volume='volume_data_tcn.csv' \n",
    ")"
   ]
  },
  {
   "cell_type": "code",
   "execution_count": 8,
   "metadata": {},
   "outputs": [],
   "source": [
    "# actual sequence length\n",
    "SEQ_LENGTH = full_data_set.actual_sequence_length"
   ]
  },
  {
   "cell_type": "code",
   "execution_count": 9,
   "metadata": {},
   "outputs": [],
   "source": [
    "train_set_size = int(len(full_data_set)*0.85)\n",
    "test_set_size = len(full_data_set) - train_set_size"
   ]
  },
  {
   "cell_type": "code",
   "execution_count": 10,
   "metadata": {},
   "outputs": [],
   "source": [
    "trainset, valset = data.random_split(full_data_set,\n",
    "                                     [train_set_size, test_set_size]\n",
    "                                    )"
   ]
  },
  {
   "cell_type": "code",
   "execution_count": 11,
   "metadata": {},
   "outputs": [],
   "source": [
    "train_generator = data.DataLoader(trainset, batch_size=BATCH_SIZE, shuffle=True, num_workers=4)\n",
    "test_generator = data.DataLoader(valset, batch_size=len(valset), shuffle=True, num_workers=4)"
   ]
  },
  {
   "cell_type": "code",
   "execution_count": 12,
   "metadata": {},
   "outputs": [],
   "source": [
    "model = DilatedNet(\n",
    "    seq_length=SEQ_LENGTH,\n",
    "    num_features=NUM_FEATURES,\n",
    "    out_channels=OUT_CHANNELS,\n",
    "    dilation=DILATION,\n",
    "    depth=DEPTH,\n",
    "    kernel_size=KERNEL_SIZE\n",
    ")"
   ]
  },
  {
   "cell_type": "code",
   "execution_count": 13,
   "metadata": {},
   "outputs": [
    {
     "data": {
      "text/plain": [
       "DilatedNet(\n",
       "  (relu): ReLU()\n",
       "  (dilated_conv1): Conv1d(5, 139, kernel_size=(2,), stride=(1,), dilation=(6,))\n",
       "  (convolution_blocks): Sequential(\n",
       "    (0): Conv1d(139, 139, kernel_size=(2,), stride=(1,), dilation=(6,))\n",
       "    (1): ReLU()\n",
       "    (2): Conv1d(139, 139, kernel_size=(2,), stride=(1,), dilation=(6,))\n",
       "    (3): ReLU()\n",
       "    (4): Conv1d(139, 139, kernel_size=(2,), stride=(1,), dilation=(6,))\n",
       "    (5): ReLU()\n",
       "    (6): Conv1d(139, 139, kernel_size=(2,), stride=(1,), dilation=(6,))\n",
       "    (7): ReLU()\n",
       "    (8): Conv1d(139, 139, kernel_size=(2,), stride=(1,), dilation=(6,))\n",
       "    (9): ReLU()\n",
       "    (10): Conv1d(139, 139, kernel_size=(2,), stride=(1,), dilation=(6,))\n",
       "    (11): ReLU()\n",
       "  )\n",
       "  (conv_final): Conv1d(139, 139, kernel_size=(1,), stride=(1,))\n",
       "  (feed_forward): Linear(in_features=151, out_features=1, bias=True)\n",
       ")"
      ]
     },
     "execution_count": 13,
     "metadata": {},
     "output_type": "execute_result"
    }
   ],
   "source": [
    "model.apply(model.init_weights)"
   ]
  },
  {
   "cell_type": "code",
   "execution_count": 17,
   "metadata": {},
   "outputs": [],
   "source": [
    "if OPTIMIZER == 'ADAM': optimizer = torch.optim.Adam(model.parameters(), lr=LEARNING_RATE)\n",
    "if OPTIMIZER == 'SGD': optimizer = torch.optim.SGD(model.parameters(), lr=LEARNING_RATE)\n",
    "if OPTIMIZER == 'RMSprop': optimizer = torch.optim.RMSprop(model.parameters(), lr=LEARNING_RATE)\n",
    "\n",
    "learning_rate_scheduler = torch.optim.lr_scheduler.LambdaLR(optimizer, lambda i: min(i / (INIT_LR / BATCH_SIZE), 1.0))"
   ]
  },
  {
   "cell_type": "code",
   "execution_count": 18,
   "metadata": {},
   "outputs": [],
   "source": [
    "criterion = torch.nn.BCELoss()\n",
    "track_epoch_loss = []\n",
    "train_auc = []\n",
    "test_auc = []"
   ]
  },
  {
   "cell_type": "code",
   "execution_count": 19,
   "metadata": {},
   "outputs": [
    {
     "name": "stdout",
     "output_type": "stream",
     "text": [
      "train auc: 0.5420749431848211  epoch: 0\n",
      "test auc: 0.41356382978723405  epoch: 0\n",
      "train auc: 0.46784300537603773  epoch: 1\n",
      "test auc: 0.5398936170212766  epoch: 1\n",
      "train auc: 0.49059328787240586  epoch: 2\n",
      "test auc: 0.5093085106382979  epoch: 2\n",
      "train auc: 0.3929806304806305  epoch: 3\n",
      "test auc: 0.5771276595744681  epoch: 3\n",
      "train auc: 0.5462611255956127  epoch: 4\n",
      "test auc: 0.6529255319148936  epoch: 4\n",
      "train auc: 0.5101637543848146  epoch: 5\n",
      "test auc: 0.6715425531914895  epoch: 5\n",
      "train auc: 0.5745732741163263  epoch: 6\n",
      "test auc: 0.6582446808510638  epoch: 6\n",
      "train auc: 0.5782046622227555  epoch: 7\n",
      "test auc: 0.6329787234042554  epoch: 7\n",
      "train auc: 0.5833008706378978  epoch: 8\n",
      "test auc: 0.6117021276595744  epoch: 8\n",
      "train auc: 0.5555944055944055  epoch: 9\n",
      "test auc: 0.6289893617021277  epoch: 9\n",
      "train auc: 0.6151616613485571  epoch: 10\n",
      "test auc: 0.636968085106383  epoch: 10\n",
      "train auc: 0.6050989120348579  epoch: 11\n",
      "test auc: 0.6343085106382979  epoch: 11\n",
      "train auc: 0.608155586170953  epoch: 12\n",
      "test auc: 0.6343085106382979  epoch: 12\n",
      "train auc: 0.6250142748906269  epoch: 13\n",
      "test auc: 0.6369680851063829  epoch: 13\n",
      "train auc: 0.6153818403818404  epoch: 14\n",
      "test auc: 0.6382978723404255  epoch: 14\n",
      "train auc: 0.597340917003039  epoch: 15\n",
      "test auc: 0.6476063829787234  epoch: 15\n",
      "train auc: 0.6181928352872417  epoch: 16\n",
      "test auc: 0.6489361702127661  epoch: 16\n",
      "train auc: 0.6488517392772712  epoch: 17\n",
      "test auc: 0.6476063829787234  epoch: 17\n",
      "train auc: 0.6371030586401715  epoch: 18\n",
      "test auc: 0.6502659574468085  epoch: 18\n",
      "train auc: 0.6148703985140156  epoch: 19\n",
      "test auc: 0.6449468085106382  epoch: 19\n",
      "train auc: 0.6748860788334472  epoch: 20\n",
      "test auc: 0.6502659574468086  epoch: 20\n",
      "train auc: 0.5642296157828911  epoch: 21\n",
      "test auc: 0.6529255319148937  epoch: 21\n",
      "train auc: 0.6611923816896439  epoch: 22\n",
      "test auc: 0.6542553191489362  epoch: 22\n",
      "train auc: 0.6805033690103507  epoch: 23\n",
      "test auc: 0.6529255319148936  epoch: 23\n",
      "train auc: 0.6386958517892452  epoch: 24\n",
      "test auc: 0.663563829787234  epoch: 24\n",
      "train auc: 0.6276197903029337  epoch: 25\n",
      "test auc: 0.6356382978723405  epoch: 25\n",
      "train auc: 0.6286225112755726  epoch: 26\n",
      "test auc: 0.6515957446808511  epoch: 26\n",
      "train auc: 0.6896375268951856  epoch: 27\n",
      "test auc: 0.6449468085106383  epoch: 27\n",
      "train auc: 0.6776951234419347  epoch: 28\n",
      "test auc: 0.663563829787234  epoch: 28\n",
      "train auc: 0.6346272374197905  epoch: 29\n",
      "test auc: 0.636968085106383  epoch: 29\n",
      "train auc: 0.629127172960235  epoch: 30\n",
      "test auc: 0.6436170212765957  epoch: 30\n",
      "train auc: 0.6757157589595828  epoch: 31\n",
      "test auc: 0.6595744680851063  epoch: 31\n",
      "train auc: 0.662874328210604  epoch: 32\n",
      "test auc: 0.663563829787234  epoch: 32\n",
      "train auc: 0.6750471764782282  epoch: 33\n",
      "test auc: 0.6675531914893617  epoch: 33\n",
      "train auc: 0.7089870258663082  epoch: 34\n",
      "test auc: 0.663563829787234  epoch: 34\n",
      "train auc: 0.6994032660949754  epoch: 35\n",
      "test auc: 0.6582446808510638  epoch: 35\n",
      "train auc: 0.7350071948251051  epoch: 36\n",
      "test auc: 0.6662234042553192  epoch: 36\n",
      "train auc: 0.7199574061416167  epoch: 37\n",
      "test auc: 0.6715425531914893  epoch: 37\n",
      "train auc: 0.6625506621896762  epoch: 38\n",
      "test auc: 0.6662234042553191  epoch: 38\n"
     ]
    }
   ],
   "source": [
    "for ep in range(NUM_EPOCHS):\n",
    "    model.train()\n",
    "    epoch_loss = 0\n",
    "    temp_train_auc = 0\n",
    "    \n",
    "    for train_x, train_y in train_generator:\n",
    "        \n",
    "        predictions = model(train_x)\n",
    "        loss = criterion(predictions, train_y.view(-1, 1))\n",
    "        epoch_loss += loss.item()\n",
    "        temp_train_auc += roc_auc_score(\n",
    "            train_y.numpy(), predictions.detach().numpy())\n",
    "        \n",
    "        optimizer.zero_grad()\n",
    "        loss.backward()\n",
    "        \n",
    "        # clip up\n",
    "        torch.nn.utils.clip_grad_norm_(model.parameters(), GRAD_CLIPPING_VAL)\n",
    "\n",
    "        optimizer.step()\n",
    "        learning_rate_scheduler.step()\n",
    "    \n",
    "    train_auc.append(temp_train_auc/len(train_generator))\n",
    "    if ep % 1 == 0: print('train auc:', train_auc[-1], ' epoch:', ep)\n",
    "    \n",
    "    with torch.no_grad():\n",
    "        model.eval()\n",
    "        temp_test_auc = 0\n",
    "        for test_x, test_y in test_generator:\n",
    "            predictions = model(test_x)\n",
    "            temp_test_auc += roc_auc_score(\n",
    "                test_y.numpy(), predictions.numpy())\n",
    "\n",
    "    test_auc.append(temp_test_auc/len(test_generator))\n",
    "    if ep % 1 == 0: print('test auc:', test_auc[-1], ' epoch:', ep)"
   ]
  },
  {
   "cell_type": "code",
   "execution_count": 21,
   "metadata": {},
   "outputs": [
    {
     "data": {
      "image/png": "[encoded data removed]",
      "text/plain": [
       "<Figure size 864x576 with 1 Axes>"
      ]
     },
     "metadata": {
      "needs_background": "light"
     },
     "output_type": "display_data"
    }
   ],
   "source": [
    "plt.figure(figsize=(12, 8))\n",
    "plt.title('Test & Training AUC')\n",
    "plt.plot(test_auc, label='test AUC', color='r', alpha=0.7)\n",
    "plt.plot(train_auc, label='train AUC', color='b', alpha=0.7)\n",
    "plt.ylabel('AUC Score')\n",
    "plt.xlabel('Epoch')\n",
    "plt.grid()\n",
    "plt.legend()\n",
    "plt.show()"
   ]
  }
 ],
 "metadata": {
  "kernelspec": {
   "display_name": "pp37",
   "language": "python",
   "name": "pp37"
  },
  "language_info": {
   "codemirror_mode": {
    "name": "ipython",
    "version": 3
   },
   "file_extension": ".py",
   "mimetype": "text/x-python",
   "name": "python",
   "nbconvert_exporter": "python",
   "pygments_lexer": "ipython3",
   "version": "3.7.3"
  }
 },
 "nbformat": 4,
 "nbformat_minor": 4
}
